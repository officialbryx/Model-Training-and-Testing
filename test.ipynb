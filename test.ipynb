{
 "cells": [
  {
   "cell_type": "code",
   "execution_count": null,
   "metadata": {},
   "outputs": [],
   "source": [
    "import pandas as pd\n",
    "\n",
    "# Load job dataset\n",
    "job_data = pd.read_csv('jobstreet_all_job_dataset.csv')\n",
    "\n",
    "# Load resume dataset\n",
    "resume_data = pd.read_csv('Dataset.csv')\n",
    "\n",
    "# Display first few rows to understand structure\n",
    "print(job_data.head())\n",
    "print(resume_data.head())"
   ]
  }
 ],
 "metadata": {
  "language_info": {
   "name": "python"
  }
 },
 "nbformat": 4,
 "nbformat_minor": 2
}
